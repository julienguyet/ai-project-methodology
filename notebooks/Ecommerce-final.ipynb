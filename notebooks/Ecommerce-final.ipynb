{
 "cells": [
  {
   "cell_type": "code",
   "execution_count": 1,
   "metadata": {},
   "outputs": [
    {
     "name": "stdout",
     "output_type": "stream",
     "text": [
      "/Users/julien/Documents/EPITA/S2/AI_methodo/ai-project-methodology/notebooks\n"
     ]
    }
   ],
   "source": [
    "!pwd"
   ]
  },
  {
   "cell_type": "code",
   "execution_count": 2,
   "metadata": {},
   "outputs": [
    {
     "name": "stdout",
     "output_type": "stream",
     "text": [
      "{'accuracy': 0.8833629366489046, 'classification_report': {'0': {'precision': 0.9047945205479452, 'recall': 0.9579405366207396, 'f1-score': 0.9306093694963015, 'support': 1379.0}, '1': {'precision': 0.7467248908296943, 'recall': 0.5516129032258065, 'f1-score': 0.634508348794063, 'support': 310.0}, 'accuracy': 0.8833629366489046, 'macro avg': {'precision': 0.8257597056888197, 'recall': 0.7547767199232731, 'f1-score': 0.7825588591451822, 'support': 1689.0}, 'weighted avg': {'precision': 0.8757823327370169, 'recall': 0.8833629366489046, 'f1-score': 0.8762628233638599, 'support': 1689.0}}}\n"
     ]
    },
    {
     "name": "stderr",
     "output_type": "stream",
     "text": [
      "/Users/julien/anaconda3/envs/ai-methodo/lib/python3.12/site-packages/sklearn/linear_model/_logistic.py:469: ConvergenceWarning: lbfgs failed to converge (status=1):\n",
      "STOP: TOTAL NO. of ITERATIONS REACHED LIMIT.\n",
      "\n",
      "Increase the number of iterations (max_iter) or scale the data as shown in:\n",
      "    https://scikit-learn.org/stable/modules/preprocessing.html\n",
      "Please also refer to the documentation for alternative solver options:\n",
      "    https://scikit-learn.org/stable/modules/linear_model.html#logistic-regression\n",
      "  n_iter_i = _check_optimize_result(\n"
     ]
    }
   ],
   "source": [
    "import pandas as pd\n",
    "import sys\n",
    "sys.path.append('../py_files')\n",
    "from py_files.train import build_model\n",
    "from py_files.preprocess import preprocess\n",
    "# Load training data\n",
    "training_data_df = pd.read_csv('../data/Dataset/ECommerce.csv')\n",
    "\n",
    "# Preprocess the training data\n",
    "X_train = preprocess(training_data_df)\n",
    "\n",
    "# Build and train the model\n",
    "model_performance_dict = build_model(X_train)\n",
    "\n",
    "# Print model performance\n",
    "print(model_performance_dict)\n"
   ]
  },
  {
   "cell_type": "code",

   "execution_count": 2,

   "execution_count": 3,

   "metadata": {},
   "outputs": [
    {
     "name": "stdout",
     "output_type": "stream",
     "text": [
      "{'predictions': array([0, 0, 0, ..., 0, 0, 0])}\n"
     ]
    },
    {
     "name": "stderr",
     "output_type": "stream",
     "text": [
      "/Users/julien/anaconda3/envs/ai-methodo/lib/python3.12/site-packages/sklearn/base.py:376: InconsistentVersionWarning: Trying to unpickle estimator LogisticRegression from version 1.3.2 when using version 1.4.1.post1. This might lead to breaking code or invalid results. Use at your own risk. For more info please refer to:\n",
      "https://scikit-learn.org/stable/model_persistence.html#security-maintainability-limitations\n",
      "  warnings.warn(\n"
     ]
    }
   ],
   "source": [
    "import pandas as pd\n",
    "from py_files.inference import make_predictions\n",
    "\n",
    "# Load user data for inference\n",
    "user_data_df = pd.read_csv('../data/Dataset/test.csv')\n",
    "\n",
    "# Call make_predictions function to generate predictions\n",
    "predictions = make_predictions(user_data_df)\n",
    "\n",
    "# Print predictions\n",
    "print(predictions)\n"
   ]
  }
 ],
 "metadata": {
  "kernelspec": {
   "display_name": "Ecommerce",
   "language": "python",
   "name": "python3"
  },
  "language_info": {
   "codemirror_mode": {
    "name": "ipython",
    "version": 3
   },
   "file_extension": ".py",
   "mimetype": "text/x-python",
   "name": "python",
   "nbconvert_exporter": "python",
   "pygments_lexer": "ipython3",
   "version": "3.12.2"
  }
 },
 "nbformat": 4,
 "nbformat_minor": 2
}
