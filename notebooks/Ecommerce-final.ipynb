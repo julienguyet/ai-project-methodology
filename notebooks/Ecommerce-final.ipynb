{
 "cells": [
  {
   "cell_type": "code",
   "execution_count": 3,
   "metadata": {},
   "outputs": [
    {
     "name": "stdout",
     "output_type": "stream",
     "text": [
      "{'accuracy': 0.8839550029603316, 'classification_report': {'0': {'precision': 0.9048596851471595, 'recall': 0.9586656997824511, 'f1-score': 0.9309859154929578, 'support': 1379.0}, '1': {'precision': 0.75, 'recall': 0.5516129032258065, 'f1-score': 0.6356877323420074, 'support': 310.0}, 'accuracy': 0.8839550029603316, 'macro avg': {'precision': 0.8274298425735798, 'recall': 0.7551393015041288, 'f1-score': 0.7833368239174826, 'support': 1689.0}, 'weighted avg': {'precision': 0.8764366523492795, 'recall': 0.8839550029603316, 'f1-score': 0.8767867226114926, 'support': 1689.0}}}\n"
     ]
    }
   ],
   "source": [
    "import pandas as pd\n",
    "import sys\n",
    "sys.path.append('/Users/preethapallavi/Documents/EPITA S2/AI project methodologies/ai-project-methodology/')\n",
    "from py_files.train import build_model\n",
    "from py_files.preprocess import preprocess\n",
    "# Load training data\n",
    "training_data_df = pd.read_csv('../data/Dataset/ECommerce.csv')\n",
    "\n",
    "# Preprocess the training data\n",
    "X_train = preprocess(training_data_df)\n",
    "\n",
    "# Build and train the model\n",
    "model_performance_dict = build_model(X_train)\n",
    "\n",
    "# Print model performance\n",
    "print(model_performance_dict)\n"
   ]
  },
  {
   "cell_type": "code",
   "execution_count": 4,
   "metadata": {},
   "outputs": [
    {
     "name": "stdout",
     "output_type": "stream",
     "text": [
      "{'predictions': array([0, 1, 1, ..., 0, 0, 0])}\n"
     ]
    }
   ],
   "source": [
    "import pandas as pd\n",
    "from py_files.inference import make_predictions\n",
    "\n",
    "# Load user data for inference\n",
    "user_data_df = pd.read_csv('../data/Dataset/ECommerce.csv')\n",
    "\n",
    "# Call make_predictions function to generate predictions\n",
    "predictions = make_predictions(user_data_df)\n",
    "\n",
    "# Print predictions\n",
    "print(predictions)\n"
   ]
  },
  {
   "cell_type": "code",
   "execution_count": null,
   "metadata": {},
   "outputs": [],
   "source": []
  },
  {
   "cell_type": "code",
   "execution_count": null,
   "metadata": {},
   "outputs": [],
   "source": []
  }
 ],
 "metadata": {
  "kernelspec": {
   "display_name": "Ecommerce",
   "language": "python",
   "name": "python3"
  },
  "language_info": {
   "codemirror_mode": {
    "name": "ipython",
    "version": 3
   },
   "file_extension": ".py",
   "mimetype": "text/x-python",
   "name": "python",
   "nbconvert_exporter": "python",
   "pygments_lexer": "ipython3",
   "version": "3.12.0"
  }
 },
 "nbformat": 4,
 "nbformat_minor": 2
}
