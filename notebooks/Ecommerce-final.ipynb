{
 "cells": [
  {
   "cell_type": "code",
   "execution_count": 1,
   "metadata": {},
   "outputs": [
    {
     "ename": "ModuleNotFoundError",
     "evalue": "No module named 'py_files'",
     "output_type": "error",
     "traceback": [
      "\u001b[0;31m---------------------------------------------------------------------------\u001b[0m",
      "\u001b[0;31mModuleNotFoundError\u001b[0m                       Traceback (most recent call last)",
      "\u001b[1;32m/Users/preethapallavi/Documents/EPITA S2/AI project methodologies/ai-project-methodology/notebooks/Ecommerce-final.ipynb Cell 1\u001b[0m line \u001b[0;36m4\n\u001b[1;32m      <a href='vscode-notebook-cell:/Users/preethapallavi/Documents/EPITA%20S2/AI%20project%20methodologies/ai-project-methodology/notebooks/Ecommerce-final.ipynb#W0sZmlsZQ%3D%3D?line=1'>2</a>\u001b[0m sys\u001b[39m.\u001b[39mpath\u001b[39m.\u001b[39mappend(\u001b[39m'\u001b[39m\u001b[39m../py_files/\u001b[39m\u001b[39m'\u001b[39m)\n\u001b[1;32m      <a href='vscode-notebook-cell:/Users/preethapallavi/Documents/EPITA%20S2/AI%20project%20methodologies/ai-project-methodology/notebooks/Ecommerce-final.ipynb#W0sZmlsZQ%3D%3D?line=2'>3</a>\u001b[0m \u001b[39mimport\u001b[39;00m \u001b[39mpandas\u001b[39;00m \u001b[39mas\u001b[39;00m \u001b[39mpd\u001b[39;00m\n\u001b[0;32m----> <a href='vscode-notebook-cell:/Users/preethapallavi/Documents/EPITA%20S2/AI%20project%20methodologies/ai-project-methodology/notebooks/Ecommerce-final.ipynb#W0sZmlsZQ%3D%3D?line=3'>4</a>\u001b[0m \u001b[39mfrom\u001b[39;00m \u001b[39mpy_files\u001b[39;00m\u001b[39m.\u001b[39;00m\u001b[39mtrain\u001b[39;00m \u001b[39mimport\u001b[39;00m build_model\n\u001b[1;32m      <a href='vscode-notebook-cell:/Users/preethapallavi/Documents/EPITA%20S2/AI%20project%20methodologies/ai-project-methodology/notebooks/Ecommerce-final.ipynb#W0sZmlsZQ%3D%3D?line=4'>5</a>\u001b[0m \u001b[39mfrom\u001b[39;00m \u001b[39mpy_files\u001b[39;00m\u001b[39m.\u001b[39;00m\u001b[39mpreprocess\u001b[39;00m \u001b[39mimport\u001b[39;00m preprocess\n\u001b[1;32m      <a href='vscode-notebook-cell:/Users/preethapallavi/Documents/EPITA%20S2/AI%20project%20methodologies/ai-project-methodology/notebooks/Ecommerce-final.ipynb#W0sZmlsZQ%3D%3D?line=7'>8</a>\u001b[0m \u001b[39m# Load training data\u001b[39;00m\n",
      "\u001b[0;31mModuleNotFoundError\u001b[0m: No module named 'py_files'"
     ]
    }
   ],
   "source": [
    "import sys\n",
    "sys.path.append('../py_files/')\n",
    "import pandas as pd\n",
    "from py_files.train import build_model\n",
    "from py_files.preprocess import preprocess\n",
    "\n",
    "\n",
    "# Load training data\n",
    "training_data_df = pd.read_csv('../data/Dataset/ECommerce.csv')\n",
    "\n",
    "# Preprocess the training data\n",
    "X_train = preprocess(training_data_df)\n",
    "\n",
    "# Build and train the model\n",
    "model_performance_dict = build_model(X_train)\n",
    "\n",
    "# Print model performance\n",
    "print(model_performance_dict)\n"
   ]
  },
  {
   "cell_type": "code",
   "execution_count": null,
   "metadata": {},
   "outputs": [],
   "source": [
    "import pandas as pd\n",
    "from py_files.inference import make_predictions\n",
    "\n",
    "# Load user data for inference\n",
    "user_data_df = pd.read_csv('../data/Dataset/ECommerce.csv')\n",
    "\n",
    "# Call make_predictions function to generate predictions\n",
    "predictions = make_predictions(user_data_df)\n",
    "\n",
    "# Print predictions\n",
    "print(predictions)\n"
   ]
  },
  {
   "cell_type": "code",
   "execution_count": null,
   "metadata": {},
   "outputs": [],
   "source": []
  },
  {
   "cell_type": "code",
   "execution_count": null,
   "metadata": {},
   "outputs": [],
   "source": []
  }
 ],
 "metadata": {
  "kernelspec": {
   "display_name": "Ecommerce",
   "language": "python",
   "name": "python3"
  },
  "language_info": {
   "codemirror_mode": {
    "name": "ipython",
    "version": 3
   },
   "file_extension": ".py",
   "mimetype": "text/x-python",
   "name": "python",
   "nbconvert_exporter": "python",
   "pygments_lexer": "ipython3",
   "version": "3.12.2"
  }
 },
 "nbformat": 4,
 "nbformat_minor": 2
}
